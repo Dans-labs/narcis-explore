{
 "cells": [
  {
   "cell_type": "markdown",
   "metadata": {
    "toc": true
   },
   "source": [
    "<h1>Table of Contents<span class=\"tocSkip\"></span></h1>\n",
    "<div class=\"toc\" style=\"margin-top: 1em;\"><ul class=\"toc-item\"></ul></div>"
   ]
  },
  {
   "cell_type": "code",
   "execution_count": 29,
   "metadata": {},
   "outputs": [],
   "source": [
    "import collections\n",
    "from datetime import datetime, date\n",
    "from pymongo import MongoClient\n",
    "from bson.objectid import ObjectId"
   ]
  },
  {
   "cell_type": "code",
   "execution_count": 22,
   "metadata": {},
   "outputs": [
    {
     "name": "stdout",
     "output_type": "stream",
     "text": [
      "52e2690072c9348416c76ab09f94369dada8cba0a8282d9309193d5bcf328288\r\n"
     ]
    }
   ],
   "source": [
    "!docker run --name NARCIS -v /Users/dirk/local/narcis/MongoDB-NARCIS-Dec17:/data/db -p 27019:27017 -d mongo --logpath /data/db/log.log"
   ]
  },
  {
   "cell_type": "code",
   "execution_count": 20,
   "metadata": {},
   "outputs": [
    {
     "name": "stdout",
     "output_type": "stream",
     "text": [
      "NARCIS\r\n"
     ]
    }
   ],
   "source": [
    "!docker stop NARCIS"
   ]
  },
  {
   "cell_type": "code",
   "execution_count": 21,
   "metadata": {},
   "outputs": [
    {
     "name": "stdout",
     "output_type": "stream",
     "text": [
      "NARCIS\r\n"
     ]
    }
   ],
   "source": [
    "!docker rm NARCIS"
   ]
  },
  {
   "cell_type": "code",
   "execution_count": 30,
   "metadata": {},
   "outputs": [],
   "source": [
    "client = MongoClient('mongodb://localhost:27019/')"
   ]
  },
  {
   "cell_type": "code",
   "execution_count": 31,
   "metadata": {},
   "outputs": [
    {
     "data": {
      "text/plain": [
       "['NARCIS', 'admin', 'config', 'local']"
      ]
     },
     "execution_count": 31,
     "metadata": {},
     "output_type": "execute_result"
    }
   ],
   "source": [
    "client.database_names()"
   ]
  },
  {
   "cell_type": "code",
   "execution_count": 32,
   "metadata": {},
   "outputs": [],
   "source": [
    "DBN = client.NARCIS"
   ]
  },
  {
   "cell_type": "code",
   "execution_count": 33,
   "metadata": {},
   "outputs": [
    {
     "data": {
      "text/plain": [
       "['Dec2017']"
      ]
     },
     "execution_count": 33,
     "metadata": {},
     "output_type": "execute_result"
    }
   ],
   "source": [
    "DBN.collection_names()"
   ]
  },
  {
   "cell_type": "code",
   "execution_count": 34,
   "metadata": {},
   "outputs": [],
   "source": [
    "DBND = DBN.Dec2017"
   ]
  },
  {
   "cell_type": "code",
   "execution_count": 35,
   "metadata": {},
   "outputs": [
    {
     "data": {
      "text/plain": [
       "1622397"
      ]
     },
     "execution_count": 35,
     "metadata": {},
     "output_type": "execute_result"
    }
   ],
   "source": [
    "DBND.count()"
   ]
  },
  {
   "cell_type": "code",
   "execution_count": 42,
   "metadata": {},
   "outputs": [
    {
     "name": "stdout",
     "output_type": "stream",
     "text": [
      "\t  10000\n",
      "\t  20000\n",
      "\t  30000\n",
      "\t  40000\n",
      "\t  50000\n",
      "\t  60000\n",
      "\t  70000\n",
      "\t  80000\n",
      "\t  90000\n",
      "\t 100000\n",
      "\t 110000\n",
      "\t 120000\n",
      "\t 130000\n",
      "\t 140000\n",
      "\t 150000\n",
      "\t 160000\n",
      "\t 170000\n",
      "\t 180000\n",
      "\t 190000\n",
      "\t 200000\n",
      "\t 210000\n",
      "\t 220000\n",
      "\t 230000\n",
      "\t 240000\n",
      "\t 250000\n",
      "\t 260000\n",
      "\t 270000\n",
      "\t 280000\n",
      "\t 290000\n",
      "\t 300000\n",
      "\t 310000\n",
      "\t 320000\n",
      "\t 330000\n",
      "\t 340000\n",
      "\t 350000\n",
      "\t 360000\n",
      "\t 370000\n",
      "\t 380000\n",
      "\t 390000\n",
      "\t 400000\n",
      "\t 410000\n",
      "\t 420000\n",
      "\t 430000\n",
      "\t 440000\n",
      "\t 450000\n",
      "\t 460000\n",
      "\t 470000\n",
      "\t 480000\n",
      "\t 490000\n",
      "\t 500000\n",
      "\t 510000\n",
      "\t 520000\n",
      "\t 530000\n",
      "\t 540000\n",
      "\t 550000\n",
      "\t 560000\n",
      "\t 570000\n",
      "\t 580000\n",
      "\t 590000\n",
      "\t 600000\n",
      "\t 610000\n",
      "\t 620000\n",
      "\t 630000\n",
      "\t 640000\n",
      "\t 650000\n",
      "\t 660000\n",
      "\t 670000\n",
      "\t 680000\n",
      "\t 690000\n",
      "\t 700000\n",
      "\t 710000\n",
      "\t 720000\n",
      "\t 730000\n",
      "\t 740000\n",
      "\t 750000\n",
      "\t 760000\n",
      "\t 770000\n",
      "\t 780000\n",
      "\t 790000\n",
      "\t 800000\n",
      "\t 810000\n",
      "\t 820000\n",
      "\t 830000\n",
      "\t 840000\n",
      "\t 850000\n",
      "\t 860000\n",
      "\t 870000\n",
      "\t 880000\n",
      "\t 890000\n",
      "\t 900000\n",
      "\t 910000\n",
      "\t 920000\n",
      "\t 930000\n",
      "\t 940000\n",
      "\t 950000\n",
      "\t 960000\n",
      "\t 970000\n",
      "\t 980000\n",
      "\t 990000\n",
      "\t1000000\n",
      "\t1010000\n",
      "\t1020000\n",
      "\t1030000\n",
      "\t1040000\n",
      "\t1050000\n",
      "\t1060000\n",
      "\t1070000\n",
      "\t1080000\n",
      "\t1090000\n",
      "\t1100000\n",
      "\t1110000\n",
      "\t1120000\n",
      "\t1130000\n",
      "\t1140000\n",
      "\t1150000\n",
      "\t1160000\n",
      "\t1170000\n",
      "\t1180000\n",
      "\t1190000\n",
      "\t1200000\n",
      "\t1210000\n",
      "\t1220000\n",
      "\t1230000\n",
      "\t1240000\n",
      "\t1250000\n",
      "\t1260000\n",
      "\t1270000\n",
      "\t1280000\n",
      "\t1290000\n",
      "\t1300000\n",
      "\t1310000\n",
      "\t1320000\n",
      "\t1330000\n",
      "\t1340000\n",
      "\t1350000\n",
      "\t1360000\n",
      "\t1370000\n",
      "\t1380000\n",
      "\t1390000\n",
      "\t1400000\n",
      "\t1410000\n",
      "\t1420000\n",
      "\t1430000\n",
      "\t1440000\n",
      "\t1450000\n",
      "\t1460000\n",
      "\t1470000\n",
      "\t1480000\n",
      "\t1490000\n",
      "\t1500000\n",
      "\t1510000\n",
      "\t1520000\n",
      "\t1530000\n",
      "\t1540000\n",
      "\t1550000\n",
      "\t1560000\n",
      "\t1570000\n",
      "\t1580000\n",
      "\t1590000\n",
      "\t1600000\n",
      "\t1610000\n",
      "\t1620000\n",
      "\t1622397\n"
     ]
    }
   ],
   "source": [
    "nonEmptyFields = collections.Counter()\n",
    "emptyFields = collections.Counter()\n",
    "\n",
    "i = 0\n",
    "j = 0\n",
    "chunk = 10000\n",
    "\n",
    "for doc in DBND.find():\n",
    "    j += 1\n",
    "    i += 1\n",
    "    if j == chunk:\n",
    "        j = 0\n",
    "        print(f'\\t{i:>7}')\n",
    "    for (key, val) in doc.items():\n",
    "        if val:\n",
    "            nonEmptyFields[key] += 1\n",
    "        else:\n",
    "            emptyFields[key] += 1\n",
    "print(f'\\t{i:>7}')"
   ]
  },
  {
   "cell_type": "code",
   "execution_count": 43,
   "metadata": {},
   "outputs": [
    {
     "data": {
      "text/plain": [
       "15"
      ]
     },
     "execution_count": 43,
     "metadata": {},
     "output_type": "execute_result"
    }
   ],
   "source": [
    "len(nonEmptyFields)"
   ]
  },
  {
   "cell_type": "code",
   "execution_count": 44,
   "metadata": {},
   "outputs": [
    {
     "data": {
      "text/plain": [
       "0"
      ]
     },
     "execution_count": 44,
     "metadata": {},
     "output_type": "execute_result"
    }
   ],
   "source": [
    "len(emptyFields)"
   ]
  },
  {
   "cell_type": "code",
   "execution_count": 46,
   "metadata": {},
   "outputs": [
    {
     "name": "stdout",
     "output_type": "stream",
     "text": [
      "DAI                  1622397x\n",
      "GlobalIDs            1622397x\n",
      "ID                   1622397x\n",
      "Journal              1622397x\n",
      "Keywords             1622397x\n",
      "NumberofIDs          1622397x\n",
      "_id                  1622397x\n",
      "access               1622397x\n",
      "date_harv            1622397x\n",
      "date_header          1622397x\n",
      "date_orig            1622397x\n",
      "filenr               1622397x\n",
      "nldidlnorm           1622397x\n",
      "originURL            1622397x\n",
      "setSpec              1622397x\n"
     ]
    }
   ],
   "source": [
    "for (field, amount) in sorted(nonEmptyFields.items(), key=lambda x: (-x[1], x[0])):\n",
    "    print(f'{field:<20} {amount:>7}x')"
   ]
  },
  {
   "cell_type": "code",
   "execution_count": null,
   "metadata": {},
   "outputs": [],
   "source": []
  }
 ],
 "metadata": {
  "kernelspec": {
   "display_name": "Python 3",
   "language": "python",
   "name": "python3"
  },
  "language_info": {
   "codemirror_mode": {
    "name": "ipython",
    "version": 3
   },
   "file_extension": ".py",
   "mimetype": "text/x-python",
   "name": "python",
   "nbconvert_exporter": "python",
   "pygments_lexer": "ipython3",
   "version": "3.6.4"
  },
  "toc": {
   "nav_menu": {},
   "number_sections": true,
   "sideBar": true,
   "skip_h1_title": true,
   "toc_cell": true,
   "toc_position": {},
   "toc_section_display": "block",
   "toc_window_display": false
  }
 },
 "nbformat": 4,
 "nbformat_minor": 2
}
