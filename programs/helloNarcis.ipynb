{
 "cells": [
  {
   "cell_type": "markdown",
   "metadata": {
    "toc": true
   },
   "source": [
    "<h1>Table of Contents<span class=\"tocSkip\"></span></h1>\n",
    "<div class=\"toc\" style=\"margin-top: 1em;\"><ul class=\"toc-item\"><li><span><a href=\"#Hello-NARCIS\" data-toc-modified-id=\"Hello-NARCIS-1\"><span class=\"toc-item-num\">1&nbsp;&nbsp;</span>Hello NARCIS</a></span></li><li><span><a href=\"#Preparation\" data-toc-modified-id=\"Preparation-2\"><span class=\"toc-item-num\">2&nbsp;&nbsp;</span>Preparation</a></span><ul class=\"toc-item\"><li><span><a href=\"#Config\" data-toc-modified-id=\"Config-2.1\"><span class=\"toc-item-num\">2.1&nbsp;&nbsp;</span>Config</a></span></li><li><span><a href=\"#Start-Docker\" data-toc-modified-id=\"Start-Docker-2.2\"><span class=\"toc-item-num\">2.2&nbsp;&nbsp;</span>Start Docker</a></span></li><li><span><a href=\"#Connect-to-MongoDB\" data-toc-modified-id=\"Connect-to-MongoDB-2.3\"><span class=\"toc-item-num\">2.3&nbsp;&nbsp;</span>Connect to MongoDB</a></span></li></ul></li><li><span><a href=\"#Inventory-of-fields\" data-toc-modified-id=\"Inventory-of-fields-3\"><span class=\"toc-item-num\">3&nbsp;&nbsp;</span>Inventory of fields</a></span><ul class=\"toc-item\"><li><span><a href=\"#Top-level-fields\" data-toc-modified-id=\"Top-level-fields-3.1\"><span class=\"toc-item-num\">3.1&nbsp;&nbsp;</span>Top level fields</a></span></li><li><span><a href=\"#Nested-fields\" data-toc-modified-id=\"Nested-fields-3.2\"><span class=\"toc-item-num\">3.2&nbsp;&nbsp;</span>Nested fields</a></span></li></ul></li><li><span><a href=\"#Results\" data-toc-modified-id=\"Results-4\"><span class=\"toc-item-num\">4&nbsp;&nbsp;</span>Results</a></span></li><li><span><a href=\"#Appendix\" data-toc-modified-id=\"Appendix-5\"><span class=\"toc-item-num\">5&nbsp;&nbsp;</span>Appendix</a></span><ul class=\"toc-item\"><li><span><a href=\"#Use-variety\" data-toc-modified-id=\"Use-variety-5.1\"><span class=\"toc-item-num\">5.1&nbsp;&nbsp;</span>Use <em>variety</em></a></span></li><li><span><a href=\"#Preparation\" data-toc-modified-id=\"Preparation-5.2\"><span class=\"toc-item-num\">5.2&nbsp;&nbsp;</span>Preparation</a></span></li><li><span><a href=\"#Run-variety\" data-toc-modified-id=\"Run-variety-5.3\"><span class=\"toc-item-num\">5.3&nbsp;&nbsp;</span>Run <em>variety</em></a></span></li><li><span><a href=\"#Results\" data-toc-modified-id=\"Results-5.4\"><span class=\"toc-item-num\">5.4&nbsp;&nbsp;</span>Results</a></span></li></ul></li></ul></div>"
   ]
  },
  {
   "cell_type": "markdown",
   "metadata": {},
   "source": [
    "## Hello NARCIS\n",
    "\n",
    "We explore a dump of the [NARCIS](https://www.narcis.nl) data.\n",
    "The dump has been taken bij \n",
    "[Emil Bode](https://dans.knaw.nl/nl/over/organisatie-beleid/medewerkers/bode)\n",
    "in December 2017.\n",
    "He has prepared it as MongoDB database contents in a Docker container.\n",
    "This container is obtainable from DataVerse:\n",
    "[NARCIS metadata in nldidlnorm format](http://hdl.handle.net/10411/FTZVH4).\n",
    "Next to the dump is a *readme* that tells you exactly how to query the data locally.\n",
    "\n",
    "The purpose of this notebook is an initial scan of the full database contents.\n",
    "The database is called `NARCIS`, and in it is just one collection, `Dec2017`, with over 1,5 million\n",
    "documents.\n",
    "\n",
    "A document is a dictionary of keys and values, where values may be numbers, strings, dates, but also lists\n",
    "of values and also dictionaries of keys and values.\n",
    "The nesting of lists and dictionaries can be arbitrarily deep.\n",
    "\n",
    "Documents do not have to conform to any schema. Most likely, there are a few dominant schemata,\n",
    "but also likely: there might be outliers.\n",
    "\n",
    "We assume no previous knowledge of NARCIS, so we want to explore the data from scratch.\n",
    "\n",
    "This notebook performs a first step:\n",
    "* We extract a distribution of all keys that are present in the docs of the database, together with\n",
    "their frequencies."
   ]
  },
  {
   "cell_type": "markdown",
   "metadata": {},
   "source": [
    "## Preparation\n",
    "\n",
    "We assume that you have a directory `local` under your home directory, with a directory `narcis` in it.\n",
    "We assume that you have downloaded the dump from DataVerse and placed it under this `narcis` directory.\n",
    "\n",
    "If you have it in a different location on your system, you can adapt the notebook to your own situation\n",
    "by editing some values in the config section below.\n",
    "\n",
    "You need to have [Docker](https://www.docker.com/get-docker) installed on your system."
   ]
  },
  {
   "cell_type": "code",
   "execution_count": null,
   "metadata": {
    "ExecuteTime": {
     "end_time": "2018-02-06T15:24:22.992887Z",
     "start_time": "2018-02-06T15:24:22.877933Z"
    }
   },
   "outputs": [],
   "source": [
    "import collections\n",
    "import os\n",
    "import operator\n",
    "from functools import reduce\n",
    "from datetime import datetime, date\n",
    "from pymongo import MongoClient\n",
    "from bson.objectid import ObjectId"
   ]
  },
  {
   "cell_type": "markdown",
   "metadata": {},
   "source": [
    "### Config\n",
    "\n",
    "Specify the location of the database dump here; also the local location of this notebook."
   ]
  },
  {
   "cell_type": "code",
   "execution_count": 60,
   "metadata": {
    "ExecuteTime": {
     "end_time": "2018-02-07T09:29:44.199862Z",
     "start_time": "2018-02-07T09:29:44.183938Z"
    }
   },
   "outputs": [],
   "source": [
    "DUMP_DIR = os.path.expanduser('~/local/narcis/MongoDB-NARCIS-Dec17')\n",
    "\n",
    "REPO_DIR = os.path.expanduser('~/github/Dans-labs/narcis-explore')\n",
    "\n",
    "TEMP_NAME = '_temp'\n",
    "TEMP_DIR = f'{REPO_DIR}/{TEMP_NAME}'\n",
    "\n",
    "RESULT_NAME = 'results'\n",
    "RESULT_DIR = f'{REPO_DIR}/{RESULT_NAME}'\n",
    "\n",
    "FIELDS_FILE_NAME = 'fields.tsv'\n",
    "FIELDS_FILE = f'{RESULT_DIR}/{FIELDS_FILE_NAME}'\n",
    "FIELDS_VAR_FILE_NAME = 'fields-variety.txt'\n",
    "FIELDS_VAR_FILE = f'{RESULT_DIR}/{FIELDS_VAR_FILE_NAME}'\n",
    "\n",
    "for outDir in (TEMP_DIR, RESULT_DIR):\n",
    "    os.makedirs(outDir, exist_ok=True)"
   ]
  },
  {
   "cell_type": "markdown",
   "metadata": {
    "variables": {
     "RESULT_NAME": "results",
     "TEMP_NAME": "_temp"
    }
   },
   "source": [
    "If we generate large files, we do so in a temporary directory `{{TEMP_NAME}}`, in the repository itself.\n",
    "The repository lists `{{TEMP_NAME}}` in its `.gitignore` file, so output will not be sent to GitHub.\n",
    "\n",
    "Result files will be generated in `{{RESULT_NAME}}`, also inside the repo. These files will be sent to GitHub."
   ]
  },
  {
   "cell_type": "markdown",
   "metadata": {},
   "source": [
    "### Start Docker\n",
    "\n",
    "Below are the magic commands to start and stop the relevant Docker container.\n",
    "They are shell commands, not Python commands."
   ]
  },
  {
   "cell_type": "markdown",
   "metadata": {},
   "source": [
    "In case you want to stop Docker"
   ]
  },
  {
   "cell_type": "code",
   "execution_count": null,
   "metadata": {
    "ExecuteTime": {
     "end_time": "2018-02-06T15:24:33.416910Z",
     "start_time": "2018-02-06T15:24:32.307805Z"
    }
   },
   "outputs": [],
   "source": [
    "!docker stop NARCIS\n",
    "!docker rm NARCIS"
   ]
  },
  {
   "cell_type": "markdown",
   "metadata": {},
   "source": [
    "In the next cell a Docker container is started."
   ]
  },
  {
   "cell_type": "code",
   "execution_count": null,
   "metadata": {
    "ExecuteTime": {
     "end_time": "2018-02-06T15:24:36.298885Z",
     "start_time": "2018-02-06T15:24:35.544419Z"
    }
   },
   "outputs": [],
   "source": [
    "!docker run --name NARCIS -v {DUMP_DIR}:/data/db -p 27019:27017 -d mongo --logpath /data/db/log.log"
   ]
  },
  {
   "cell_type": "markdown",
   "metadata": {},
   "source": [
    "### Connect to MongoDB\n",
    "Now there is a MongoDb behind port 27019 that we can connect to.\n",
    "\n",
    "We make the connection and get some very basic statistics about the contents of the database."
   ]
  },
  {
   "cell_type": "code",
   "execution_count": null,
   "metadata": {
    "ExecuteTime": {
     "end_time": "2018-02-07T08:37:53.448337Z",
     "start_time": "2018-02-07T08:37:53.431817Z"
    }
   },
   "outputs": [],
   "source": [
    "client = MongoClient('mongodb://localhost:27019/')"
   ]
  },
  {
   "cell_type": "code",
   "execution_count": null,
   "metadata": {
    "ExecuteTime": {
     "end_time": "2018-02-07T08:37:54.603009Z",
     "start_time": "2018-02-07T08:37:54.550400Z"
    }
   },
   "outputs": [],
   "source": [
    "client.database_names()"
   ]
  },
  {
   "cell_type": "markdown",
   "metadata": {},
   "source": [
    "Navigate to the Dec2017 collection"
   ]
  },
  {
   "cell_type": "code",
   "execution_count": null,
   "metadata": {
    "ExecuteTime": {
     "end_time": "2018-02-07T08:37:56.824967Z",
     "start_time": "2018-02-07T08:37:56.805371Z"
    }
   },
   "outputs": [],
   "source": [
    "DBN = client.NARCIS\n",
    "DBN.collection_names()"
   ]
  },
  {
   "cell_type": "code",
   "execution_count": null,
   "metadata": {
    "ExecuteTime": {
     "end_time": "2018-02-07T08:37:58.205250Z",
     "start_time": "2018-02-07T08:37:58.179685Z"
    }
   },
   "outputs": [],
   "source": [
    "DBND = DBN.Dec2017\n",
    "DBND.count()"
   ]
  },
  {
   "cell_type": "markdown",
   "metadata": {},
   "source": [
    "## Inventory of fields\n",
    "\n",
    "The next step is to have a look at the top-level fields of all the documents.\n",
    "\n",
    "### Top level fields\n",
    "We count how often each top-level field occurs.\n",
    "We make separate counts for empty and non-empty values.\n",
    "\n",
    "The troughput of docs is not very fast. The cell below takes  minutes. "
   ]
  },
  {
   "cell_type": "code",
   "execution_count": null,
   "metadata": {
    "ExecuteTime": {
     "end_time": "2018-02-07T08:49:28.012806Z",
     "start_time": "2018-02-07T08:40:17.188216Z"
    }
   },
   "outputs": [],
   "source": [
    "nonEmptyFields = collections.Counter()\n",
    "emptyFields = collections.Counter()\n",
    "\n",
    "i = 0\n",
    "j = 0\n",
    "chunk = 100000\n",
    "\n",
    "for doc in DBND.find():\n",
    "    j += 1\n",
    "    i += 1\n",
    "    if j == chunk:\n",
    "        j = 0\n",
    "        print(f'\\t{i:>7}')\n",
    "    for (key, val) in doc.items():\n",
    "        if val:\n",
    "            nonEmptyFields[key] += 1\n",
    "        else:\n",
    "            emptyFields[key] += 1\n",
    "print(f'\\t{i:>7}')\n",
    "print(f'There are {len(nonEmptyFields)} fields with a value')\n",
    "print(f'There are {len(emptyFields)} fields without a value')"
   ]
  },
  {
   "cell_type": "markdown",
   "metadata": {},
   "source": [
    "Here are the non empty fields and how often they occur:"
   ]
  },
  {
   "cell_type": "code",
   "execution_count": null,
   "metadata": {
    "ExecuteTime": {
     "end_time": "2018-02-07T08:50:13.178999Z",
     "start_time": "2018-02-07T08:50:13.169326Z"
    }
   },
   "outputs": [],
   "source": [
    "for (field, amount) in sorted(nonEmptyFields.items(), key=lambda x: (-x[1], x[0])):\n",
    "    print(f'{field:<20} {amount:>7}x')"
   ]
  },
  {
   "cell_type": "markdown",
   "metadata": {},
   "source": [
    "Every document in NARCIS has exactly the same set of top level fields."
   ]
  },
  {
   "cell_type": "markdown",
   "metadata": {},
   "source": [
    "### Nested fields\n",
    "\n",
    "We want to explore a distribution of all fields, also the ones that occur\n",
    "(deeply) nested in documents.\n",
    "\n",
    "First we do it the Pythonic way: we request all documents from MongoDb, walk over them,\n",
    "and extract their (nested) keys in a `collections.Counter()`.\n",
    "\n",
    "It turns out that this takes 21 minutes.\n",
    "\n",
    "Later we see that it is not straightforward to find a faster way, so we leave it at this."
   ]
  },
  {
   "cell_type": "code",
   "execution_count": null,
   "metadata": {
    "ExecuteTime": {
     "end_time": "2018-02-07T08:53:35.523712Z",
     "start_time": "2018-02-07T08:53:35.509582Z"
    }
   },
   "outputs": [],
   "source": [
    "def getLeaves(key, val):\n",
    "    if type(val) is list:\n",
    "        return reduce(operator.add, (getLeaves(key, v) for v in val), ())\n",
    "    elif type(val) is dict:\n",
    "        return reduce(operator.add, (getLeaves(key + (ky,), v) for (ky, v) in val.items()), ())\n",
    "    else:\n",
    "        return (key,)"
   ]
  },
  {
   "cell_type": "code",
   "execution_count": 44,
   "metadata": {
    "ExecuteTime": {
     "end_time": "2018-02-07T09:15:42.346000Z",
     "start_time": "2018-02-07T08:55:02.152485Z"
    },
    "scrolled": false,
    "slideshow": {
     "slide_type": "subslide"
    }
   },
   "outputs": [
    {
     "name": "stdout",
     "output_type": "stream",
     "text": [
      "\t 900000\n",
      "\t1000000\n",
      "\t1100000\n",
      "\t1200000\n",
      "\t1300000\n",
      "\t1400000\n",
      "\t1500000\n",
      "\t1600000\n",
      "\t1622397\n",
      "1331 distinct keys encountered\n"
     ]
    }
   ],
   "source": [
    "nestedFields = collections.Counter()\n",
    "i = 0\n",
    "j = 0\n",
    "chunk = 100000\n",
    "limit = -1\n",
    "\n",
    "for doc in DBND.find():\n",
    "    j += 1\n",
    "    i += 1\n",
    "    for k in getLeaves((), doc):\n",
    "        nestedFields[k] += 1\n",
    "    if j == chunk:\n",
    "        j = 0\n",
    "        print(f'\\t{i:>7}')\n",
    "    if limit > 0 and i >= limit:\n",
    "        break\n",
    "print(f'\\t{i:>7}')\n",
    "print(f'{len(nestedFields)} distinct keys encountered')"
   ]
  },
  {
   "cell_type": "markdown",
   "metadata": {
    "variables": {
     "FIELDS_FILE_NAME": "fields.tsv"
    }
   },
   "source": [
    "We list the keys in order of frequency, most frequent ones first.\n",
    "The result is writen to `{{FIELDS_FILE_NAME}}`."
   ]
  },
  {
   "cell_type": "code",
   "execution_count": 61,
   "metadata": {
    "ExecuteTime": {
     "end_time": "2018-02-07T09:30:56.087713Z",
     "start_time": "2018-02-07T09:30:56.074785Z"
    }
   },
   "outputs": [],
   "source": [
    "with open(FIELDS_FILE, 'w') as fh:\n",
    "    for (k, v) in sorted(nestedFields.items(), key=lambda x: (-x[1], x[0])):\n",
    "        fh.write(f'{v:>7}\\t{\".\".join(k)}\\n')"
   ]
  },
  {
   "cell_type": "code",
   "execution_count": 62,
   "metadata": {
    "ExecuteTime": {
     "end_time": "2018-02-07T09:30:57.054576Z",
     "start_time": "2018-02-07T09:30:56.922541Z"
    }
   },
   "outputs": [
    {
     "name": "stdout",
     "output_type": "stream",
     "text": [
      "6464561\tsetSpec\r\n",
      "3269404\tnldidlnorm.Item.Component.Resource.mods.name._attrs\r\n",
      "3244794\tnldidlnorm.Component.Resource\r\n",
      "3244794\tnldidlnorm.Item.Component.Resource.mods._attrs\r\n",
      "3244794\tnldidlnorm.Item1.Component.Resource\r\n",
      "3206882\tnldidlnorm.Item.Component.Resource.mods.name.role.roleTerm._attrs\r\n",
      "2883096\tnldidlnorm.Item.Component.Resource.mods.name1._attrs\r\n",
      "2745507\tnldidlnorm.Item.Component.Resource.mods.name1.role.roleTerm._attrs\r\n",
      "2630900\tGlobalIDs\r\n",
      "2546508\tnldidlnorm.Item.Component.Resource.mods.language.languageTerm._attrs\r\n",
      "2201504\tnldidlnorm.Item.Component.Resource.mods.name2._attrs\r\n",
      "2153322\tnldidlnorm.Item.Component.Resource.mods.name2.role.roleTerm._attrs\r\n",
      "1797998\tJournal.relatedItem._attrs\r\n",
      "1797998\tnldidlnorm.Item.Component.Resource.mods.relatedItem._attrs\r\n",
      "1659760\tnldidlnorm.Item.Component.Resource.mods.originInfo.dateIssued._attrs\r\n",
      "1629591\tDAI\r\n",
      "1622397\tID\r\n",
      "1622397\tNumberofIDs\r\n",
      "1622397\t_id\r\n",
      "1622397\taccess\r\n"
     ]
    }
   ],
   "source": [
    "!head -20 {FIELDS_FILE}"
   ]
  },
  {
   "cell_type": "code",
   "execution_count": 63,
   "metadata": {
    "ExecuteTime": {
     "end_time": "2018-02-07T09:30:58.809110Z",
     "start_time": "2018-02-07T09:30:58.653905Z"
    }
   },
   "outputs": [
    {
     "name": "stdout",
     "output_type": "stream",
     "text": [
      "      1\tnldidlnorm.Item.Component.Resource.mods.relatedItem1.part.detail._attrs\r\n",
      "      1\tnldidlnorm.Item.Component.Resource.mods.relatedItem1.part.detail.number\r\n",
      "      1\tnldidlnorm.Item.Component.Resource.mods.relatedItem1.part.detail1._attrs\r\n",
      "      1\tnldidlnorm.Item.Component.Resource.mods.relatedItem1.part.detail1.number\r\n",
      "      1\tnldidlnorm.Item.Component.Resource.mods.relatedItem4._attrs\r\n",
      "      1\tnldidlnorm.Item.Component.Resource.mods.relatedItem4.titleInfo.title\r\n",
      "      1\tnldidlnorm.Item.Component.Resource.mods.relatedItem5._attrs\r\n",
      "      1\tnldidlnorm.Item.Component.Resource.mods.relatedItem5.titleInfo.title\r\n",
      "      1\tnldidlnorm.Item.Component.Resource.mods.subject0.topic0\r\n",
      "      1\tnldidlnorm.Item.Component.Resource.mods.subject0.topic8\r\n",
      "      1\tnldidlnorm.Item.Component.Resource.mods.subject0.topic9\r\n",
      "      1\tnldidlnorm.Item0.Descriptor1.Statement.modified\r\n",
      "      1\tnldidlnorm.Item0.Descriptor3.Statement.description\r\n",
      "      1\tnldidlnorm.Item5.Descriptor1.Statement.modified\r\n",
      "      1\tnldidlnorm.Item7.Descriptor1.Statement.modified\r\n",
      "      1\tnldidlnorm.Item7.Descriptor3.Statement.description\r\n",
      "      1\tnldidlnorm.Item8.Descriptor1.Statement.modified\r\n",
      "      1\tnldidlnorm.Item8.Descriptor3.Statement.description\r\n",
      "      1\tnldidlnorm.Item9.Descriptor1.Statement.modified\r\n",
      "      1\tnldidlnorm.Item9.Descriptor3.Statement.description\r\n"
     ]
    }
   ],
   "source": [
    "!tail -20 {FIELDS_FILE}"
   ]
  },
  {
   "cell_type": "markdown",
   "metadata": {
    "variables": {
     "FIELDS_FILE_NAME": "fields.tsv"
    }
   },
   "source": [
    "## Results\n",
    "The product of this notebook is the file `{{FIELDS_FILE_NAME}}` that shows us all the possible, nested keys in the\n",
    "NARCIS database with their frequencies.\n",
    "In other notebooks we will use this file, and conduct further explorations."
   ]
  },
  {
   "cell_type": "markdown",
   "metadata": {},
   "source": [
    "## Appendix\n",
    "\n",
    "The rest of this notebook is an alternative approach that we will not build on."
   ]
  },
  {
   "cell_type": "markdown",
   "metadata": {},
   "source": [
    "### Use *variety*\n",
    "\n",
    "Normally, you can speed up data processing by having the database use its query engine to its full potential.\n",
    "Using `mapReduce` inside MongoDb as indicated on\n",
    "[stack overflow](https://stackoverflow.com/questions/2298870/mongodb-get-names-of-all-keys-in-collection)\n",
    "could do the trick. But the accepted answer there does not do  nested keys.\n",
    "So we have to write a MongoDb function for mapReduce, which means writing something in Javascript.\n",
    "\n",
    "It turns out that somebody has already done this, and made a nice library out of it:\n",
    "[variety](https://github.com/variety/variety). \n",
    "This is a tool to explore the dominant scheme of a MongoDB and its outlier documents.\n",
    "\n",
    "However, the performance is much worse than the previous method:\n",
    "going this way takes you a whopping 80 minutes.\n",
    "We only show how to do it, generate the results, but we do not recommend it.\n",
    "\n",
    "If you want to try it yourself, there is extra preparation to do."
   ]
  },
  {
   "cell_type": "markdown",
   "metadata": {},
   "source": [
    "### Preparation\n",
    "\n",
    "You must have *MongoDb* and *Node* installed.\n",
    "\n",
    "Install *variety*:\n",
    "\n",
    "```\n",
    "npm install variety-cli -g\n",
    "```"
   ]
  },
  {
   "cell_type": "markdown",
   "metadata": {},
   "source": [
    "### Run *variety*\n",
    "This is a javascript program; we need Node to run it.\n",
    "The next cell takes well over an hour!"
   ]
  },
  {
   "cell_type": "code",
   "execution_count": null,
   "metadata": {
    "ExecuteTime": {
     "end_time": "2018-02-06T18:57:10.192856Z",
     "start_time": "2018-02-06T17:38:32.731454Z"
    }
   },
   "outputs": [],
   "source": [
    "!variety --port=27019 NARCIS/Dec2017"
   ]
  },
  {
   "cell_type": "markdown",
   "metadata": {
    "variables": {
     "FIELDS_VAR_FILE_NAME": "fields-variety.txt"
    }
   },
   "source": [
    "### Results\n",
    "\n",
    "We have copied the output into the file `{{FIELDS_VAR_FILE_NAME}}`, so it does not get inadvertently lost.\n",
    "After saving the output, we discarded it from the cell.\n",
    "\n",
    "The results are pleasing to the eye (if your screen is wide enough) but\n",
    "they lend themselves less well for further processing."
   ]
  },
  {
   "cell_type": "code",
   "execution_count": 64,
   "metadata": {
    "ExecuteTime": {
     "end_time": "2018-02-07T09:32:32.221320Z",
     "start_time": "2018-02-07T09:32:32.093873Z"
    }
   },
   "outputs": [
    {
     "name": "stdout",
     "output_type": "stream",
     "text": [
      "+----------------------------------------------------------------------------------------------------------------------------------------------------------------------+\r\n",
      "| key                                                                                       | types                           | occurrences | percents                 |\r\n",
      "| ----------------------------------------------------------------------------------------- | ------------------------------- | ----------- | ------------------------ |\r\n",
      "| DAI                                                                                       | Array                           |     1622397 | 100.00000000000000000000 |\r\n",
      "| GlobalIDs                                                                                 | Array                           |     1622397 | 100.00000000000000000000 |\r\n",
      "| ID                                                                                        | Array                           |     1622397 | 100.00000000000000000000 |\r\n",
      "| Journal                                                                                   | Array                           |     1622397 | 100.00000000000000000000 |\r\n",
      "| Keywords                                                                                  | Array                           |     1622397 | 100.00000000000000000000 |\r\n",
      "| NumberofIDs                                                                               | Array                           |     1622397 | 100.00000000000000000000 |\r\n",
      "| _id                                                                                       | ObjectId                        |     1622397 | 100.00000000000000000000 |\r\n",
      "| access                                                                                    | Array                           |     1622397 | 100.00000000000000000000 |\r\n",
      "| date_harv                                                                                 | Array                           |     1622397 | 100.00000000000000000000 |\r\n",
      "| date_header                                                                               | Array                           |     1622397 | 100.00000000000000000000 |\r\n",
      "| date_orig                                                                                 | Array                           |     1622397 | 100.00000000000000000000 |\r\n",
      "| filenr                                                                                    | Array                           |     1622397 | 100.00000000000000000000 |\r\n",
      "| nldidlnorm                                                                                | Array                           |     1622397 | 100.00000000000000000000 |\r\n",
      "| nldidlnorm.XX.Component                                                                   | Object                          |     1622397 | 100.00000000000000000000 |\r\n",
      "| nldidlnorm.XX.Component.Resource                                                          | Array                           |     1622397 | 100.00000000000000000000 |\r\n",
      "| nldidlnorm.XX.Descriptor                                                                  | Object                          |     1622397 | 100.00000000000000000000 |\r\n",
      "| nldidlnorm.XX.Descriptor.Statement                                                        | Object                          |     1622397 | 100.00000000000000000000 |\r\n"
     ]
    }
   ],
   "source": [
    "!head -20 {FIELDS_VAR_FILE}"
   ]
  },
  {
   "cell_type": "code",
   "execution_count": 65,
   "metadata": {
    "ExecuteTime": {
     "end_time": "2018-02-07T09:32:39.498375Z",
     "start_time": "2018-02-07T09:32:39.358014Z"
    }
   },
   "outputs": [
    {
     "name": "stdout",
     "output_type": "stream",
     "text": [
      "| nldidlnorm.XX.Item.Component.Resource.mods.relatedItem4.titleInfo.title                   | Array                           |           1 |   0.00006163719484195299 |\r\n",
      "| nldidlnorm.XX.Item.Component.Resource.mods.relatedItem5                                   | Object                          |           1 |   0.00006163719484195299 |\r\n",
      "| nldidlnorm.XX.Item.Component.Resource.mods.relatedItem5._attrs                            | Array                           |           1 |   0.00006163719484195299 |\r\n",
      "| nldidlnorm.XX.Item.Component.Resource.mods.relatedItem5.titleInfo                         | Object                          |           1 |   0.00006163719484195299 |\r\n",
      "| nldidlnorm.XX.Item.Component.Resource.mods.relatedItem5.titleInfo.title                   | Array                           |           1 |   0.00006163719484195299 |\r\n",
      "| nldidlnorm.XX.Item.Component.Resource.mods.subject0.topic0                                | Array                           |           1 |   0.00006163719484195299 |\r\n",
      "| nldidlnorm.XX.Item.Component.Resource.mods.subject0.topic8                                | Array                           |           1 |   0.00006163719484195299 |\r\n",
      "| nldidlnorm.XX.Item.Component.Resource.mods.subject0.topic9                                | Array                           |           1 |   0.00006163719484195299 |\r\n",
      "| nldidlnorm.XX.Item0.Descriptor1.Statement.modified                                        | Array                           |           1 |   0.00006163719484195299 |\r\n",
      "| nldidlnorm.XX.Item0.Descriptor3.Statement.description                                     | Array                           |           1 |   0.00006163719484195299 |\r\n",
      "| nldidlnorm.XX.Item5.Descriptor1.Statement.modified                                        | Array                           |           1 |   0.00006163719484195299 |\r\n",
      "| nldidlnorm.XX.Item7.Descriptor1.Statement.modified                                        | Array                           |           1 |   0.00006163719484195299 |\r\n",
      "| nldidlnorm.XX.Item7.Descriptor3.Statement.description                                     | Array                           |           1 |   0.00006163719484195299 |\r\n",
      "| nldidlnorm.XX.Item8.Descriptor1.Statement.modified                                        | Array                           |           1 |   0.00006163719484195299 |\r\n",
      "| nldidlnorm.XX.Item8.Descriptor3.Statement.description                                     | Array                           |           1 |   0.00006163719484195299 |\r\n",
      "| nldidlnorm.XX.Item9.Descriptor1.Statement.modified                                        | Array                           |           1 |   0.00006163719484195299 |\r\n",
      "| nldidlnorm.XX.Item9.Descriptor3.Statement.description                                     | Array                           |           1 |   0.00006163719484195299 |\r\n",
      "+----------------------------------------------------------------------------------------------------------------------------------------------------------------------+\r\n",
      "\r\n",
      "MongoDB shell version v3.4.10\r\n",
      "connecting to: mongodb://127.0.0.1:27019/NARCIS\r\n",
      "MongoDB server version: 3.6.2\r\n",
      "WARNING: shell and server versions do not match\r\n",
      "Variety: A MongoDB Schema Analyzer\r\n",
      "Version 1.5.1, released 02 October 2017\r\n",
      "Using collection of \"Dec2017\"\r\n",
      "Using query of { }\r\n",
      "Using limit of 1622397\r\n",
      "Using maxDepth of 99\r\n",
      "Using sort of { \"_id\" : -1 }\r\n",
      "Using outputFormat of \"ascii\"\r\n",
      "Using persistResults of false\r\n",
      "Using resultsDatabase of \"varietyResults\"\r\n",
      "Using resultsCollection of \"Dec2017Keys\"\r\n",
      "Using resultsUser of null\r\n",
      "Using resultsPass of null\r\n",
      "Using logKeysContinuously of false\r\n",
      "Using excludeSubkeys of [ ]\r\n",
      "Using arrayEscape of \"XX\"\r\n",
      "Using plugins of [ ]\r\n"
     ]
    }
   ],
   "source": [
    "!tail -40 {FIELDS_VAR_FILE}"
   ]
  },
  {
   "cell_type": "code",
   "execution_count": null,
   "metadata": {},
   "outputs": [],
   "source": []
  }
 ],
 "metadata": {
  "kernelspec": {
   "display_name": "Python 3",
   "language": "python",
   "name": "python3"
  },
  "language_info": {
   "codemirror_mode": {
    "name": "ipython",
    "version": 3
   },
   "file_extension": ".py",
   "mimetype": "text/x-python",
   "name": "python",
   "nbconvert_exporter": "python",
   "pygments_lexer": "ipython3",
   "version": "3.6.4"
  },
  "toc": {
   "nav_menu": {},
   "number_sections": true,
   "sideBar": true,
   "skip_h1_title": true,
   "toc_cell": true,
   "toc_position": {},
   "toc_section_display": "block",
   "toc_window_display": true
  }
 },
 "nbformat": 4,
 "nbformat_minor": 2
}
