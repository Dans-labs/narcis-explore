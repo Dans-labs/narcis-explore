{
 "cells": [
  {
   "cell_type": "markdown",
   "metadata": {
    "toc": true
   },
   "source": [
    "<h1>Table of Contents<span class=\"tocSkip\"></span></h1>\n",
    "<div class=\"toc\" style=\"margin-top: 1em;\"><ul class=\"toc-item\"><li><span><a href=\"#Identifier-lookalikes\" data-toc-modified-id=\"Identifier-lookalikes-1\"><span class=\"toc-item-num\">1&nbsp;&nbsp;</span>Identifier lookalikes</a></span><ul class=\"toc-item\"><li><span><a href=\"#Config\" data-toc-modified-id=\"Config-1.1\"><span class=\"toc-item-num\">1.1&nbsp;&nbsp;</span>Config</a></span></li></ul></li><li><span><a href=\"#Analysing-the-values\" data-toc-modified-id=\"Analysing-the-values-2\"><span class=\"toc-item-num\">2&nbsp;&nbsp;</span>Analysing the values</a></span></li><li><span><a href=\"#Frequencies-of-identifier-values\" data-toc-modified-id=\"Frequencies-of-identifier-values-3\"><span class=\"toc-item-num\">3&nbsp;&nbsp;</span>Frequencies of identifier values</a></span></li></ul></div>"
   ]
  },
  {
   "cell_type": "markdown",
   "metadata": {},
   "source": [
    "## Identifier lookalikes\n",
    "\n",
    "We extract identifier like values from NARCIS documents.\n",
    "\n",
    "**N.B.:** \n",
    "See [helloNarcis](helloNarcis.ipynb) for the provenance of the data that we work with,\n",
    "and how to set up your system to run these notebooks locally.\n",
    "\n",
    "An identifier lookalike is a value that satisfies at least one of the following constraints:\n",
    "\n",
    "* **num** it consists completely of the numerals `0..9`,\n",
    "* **protocol** it starts with a sequence of ascii letters, then comes a `:`, \n",
    "  and then an ascii letter or `/`\n",
    "* **web** it contains a `.`, immediately surrounded by ascii lowercase letters\n",
    "  \n",
    "Before inspecting values, we split it on whitespace."
   ]
  },
  {
   "cell_type": "code",
   "execution_count": 1,
   "metadata": {
    "ExecuteTime": {
     "end_time": "2018-02-08T08:46:29.771155Z",
     "start_time": "2018-02-08T08:46:29.759467Z"
    }
   },
   "outputs": [],
   "source": [
    "import collections\n",
    "import os\n",
    "import re\n",
    "\n",
    "from utils import readData, writeData, getTopKeys"
   ]
  },
  {
   "cell_type": "markdown",
   "metadata": {},
   "source": [
    "### Config\n",
    "\n",
    "Specify the location of the database dump here; also the local location of this notebook."
   ]
  },
  {
   "cell_type": "code",
   "execution_count": 2,
   "metadata": {
    "ExecuteTime": {
     "end_time": "2018-02-08T08:46:31.981811Z",
     "start_time": "2018-02-08T08:46:31.948532Z"
    }
   },
   "outputs": [],
   "source": [
    "REPO_DIR = os.path.expanduser('~/github/Dans-labs/narcis-explore')\n",
    "\n",
    "TEMP_NAME = '_temp'\n",
    "TEMP_DIR = f'{REPO_DIR}/{TEMP_NAME}'\n",
    "\n",
    "RESULT_NAME = 'results'\n",
    "RESULT_DIR = f'{REPO_DIR}/{RESULT_NAME}'\n",
    "\n",
    "IDENT_NAME = 'identifiers.tsv'\n",
    "IDENT_FILE = f'{TEMP_DIR}/{IDENT_NAME}'\n",
    "\n",
    "FIELDS_NAME = 'fields.tfx'\n",
    "FIELDS_FILE = f'{TEMP_DIR}/{FIELDS_NAME}'\n",
    "\n",
    "DOC_NAME = 'docId.tfx'\n",
    "DOC_FILE = f'{TEMP_DIR}/{DOC_NAME}'\n",
    "KEY_NAME = 'keys.tfx'\n",
    "KEY_FILE = f'{TEMP_DIR}/{KEY_NAME}'\n",
    "VAL_NAME = 'values.tfx'\n",
    "VAL_FILE = f'{TEMP_DIR}/{VAL_NAME}'\n",
    "\n",
    "for outDir in (TEMP_DIR, RESULT_DIR):\n",
    "    os.makedirs(outDir, exist_ok=True)"
   ]
  },
  {
   "cell_type": "markdown",
   "metadata": {},
   "source": [
    "The patterns to detect identifiers with."
   ]
  },
  {
   "cell_type": "code",
   "execution_count": 3,
   "metadata": {
    "ExecuteTime": {
     "end_time": "2018-02-08T08:46:33.457533Z",
     "start_time": "2018-02-08T08:46:33.453462Z"
    }
   },
   "outputs": [],
   "source": [
    "protocolPat = re.compile('^[a-zA-Z]+:[a-zA-Z/]')\n",
    "webPat = re.compile('[a-z]\\.[a-z]')"
   ]
  },
  {
   "cell_type": "markdown",
   "metadata": {},
   "source": [
    "## Analysing the values\n",
    "\n",
    "We walk through all distinct values and collect the ones that look like an identifier or the\n",
    "numerical part of it."
   ]
  },
  {
   "cell_type": "code",
   "execution_count": 7,
   "metadata": {
    "ExecuteTime": {
     "end_time": "2018-02-08T08:47:26.336959Z",
     "start_time": "2018-02-08T08:47:26.316955Z"
    }
   },
   "outputs": [],
   "source": [
    "values = readData(VAL_FILE)"
   ]
  },
  {
   "cell_type": "code",
   "execution_count": 10,
   "metadata": {
    "ExecuteTime": {
     "end_time": "2018-02-08T08:47:44.111687Z",
     "start_time": "2018-02-08T08:47:44.071395Z"
    }
   },
   "outputs": [
    {
     "name": "stdout",
     "output_type": "stream",
     "text": [
      "6801 identifier candidates out of 12600 values\n"
     ]
    }
   ],
   "source": [
    "identifiers = set()\n",
    "\n",
    "for (i, val) in enumerate(values):\n",
    "    if (\n",
    "        type(val) is int or\n",
    "        type(val) is str and (\n",
    "            val.isnumeric() or\n",
    "            protocolPat.match(val) or\n",
    "            webPat.match(val)\n",
    "        )\n",
    "    ):\n",
    "        identifiers.add(i)\n",
    "print(f'{len(identifiers)} identifier candidates out of {len(values)} values')"
   ]
  },
  {
   "cell_type": "markdown",
   "metadata": {},
   "source": [
    "## Frequencies of identifier values\n",
    "\n",
    "Some links point to generic things, such as schemas, vocabularies. \n",
    "Those we see over and over again.\n",
    "Let's harvest them.\n",
    "\n",
    "First we load all the document data."
   ]
  },
  {
   "cell_type": "code",
   "execution_count": 11,
   "metadata": {
    "ExecuteTime": {
     "end_time": "2018-02-08T08:47:54.220672Z",
     "start_time": "2018-02-08T08:47:54.203929Z"
    }
   },
   "outputs": [],
   "source": [
    "fields = readData(FIELDS_FILE)"
   ]
  },
  {
   "cell_type": "markdown",
   "metadata": {},
   "source": [
    "Now we pick the identifiers and store them in a counter."
   ]
  },
  {
   "cell_type": "code",
   "execution_count": 12,
   "metadata": {
    "ExecuteTime": {
     "end_time": "2018-02-08T08:48:01.467863Z",
     "start_time": "2018-02-08T08:48:01.422545Z"
    }
   },
   "outputs": [
    {
     "name": "stdout",
     "output_type": "stream",
     "text": [
      "6801 identifiers counted\n"
     ]
    }
   ],
   "source": [
    "identFreq = collections.Counter()\n",
    "for pairs in fields:\n",
    "    for (key, value) in pairs.items():\n",
    "        if value in identifiers:\n",
    "            identFreq[value] += 1\n",
    "print(f'{len(identFreq)} identifiers counted')"
   ]
  },
  {
   "cell_type": "markdown",
   "metadata": {},
   "source": [
    "Show the distribution."
   ]
  },
  {
   "cell_type": "code",
   "execution_count": 13,
   "metadata": {
    "ExecuteTime": {
     "end_time": "2018-02-08T08:48:07.797320Z",
     "start_time": "2018-02-08T08:48:07.779051Z"
    }
   },
   "outputs": [
    {
     "name": "stdout",
     "output_type": "stream",
     "text": [
      "   5650 identifiers with frequency       1\n",
      "   1073 identifiers with frequency       2\n",
      "     13 identifiers with frequency       4\n",
      "      8 identifiers with frequency       8\n",
      "      7 identifiers with frequency       6\n",
      "      4 identifiers with frequency      12\n",
      "      4 identifiers with frequency     998\n",
      "      3 identifiers with frequency      14\n",
      "      3 identifiers with frequency      16\n",
      "      3 identifiers with frequency     100\n",
      "      2 identifiers with frequency      10\n",
      "      2 identifiers with frequency      22\n",
      "      2 identifiers with frequency      80\n",
      "      2 identifiers with frequency      90\n",
      "      2 identifiers with frequency      91\n",
      "      2 identifiers with frequency    1000\n",
      "      1 identifiers with frequency       3\n",
      "      1 identifiers with frequency       5\n",
      "      1 identifiers with frequency      13\n",
      "      1 identifiers with frequency      17\n",
      "      1 identifiers with frequency      34\n",
      "      1 identifiers with frequency      45\n",
      "      1 identifiers with frequency      52\n",
      "      1 identifiers with frequency      71\n",
      "      1 identifiers with frequency      72\n",
      "      1 identifiers with frequency      77\n",
      "      1 identifiers with frequency      83\n",
      "      1 identifiers with frequency      86\n",
      "      1 identifiers with frequency      95\n",
      "      1 identifiers with frequency      97\n",
      "      1 identifiers with frequency      99\n",
      "      1 identifiers with frequency     105\n",
      "      1 identifiers with frequency     138\n",
      "      1 identifiers with frequency     162\n",
      "      1 identifiers with frequency     686\n",
      "      1 identifiers with frequency     687\n",
      "      1 identifiers with frequency     985\n"
     ]
    }
   ],
   "source": [
    "identDist = collections.Counter()\n",
    "for (ident, freq) in identFreq.items():\n",
    "    identDist[freq] += 1\n",
    "\n",
    "for (freq, n) in sorted(identDist.items(), key=lambda x: (-x[1], x[0])):\n",
    "    print(f'{n:>7} identifiers with frequency {freq:>7}')"
   ]
  },
  {
   "cell_type": "markdown",
   "metadata": {
    "ExecuteTime": {
     "end_time": "2018-02-07T15:32:29.548999Z",
     "start_time": "2018-02-07T15:32:29.511231Z"
    },
    "scrolled": false,
    "slideshow": {
     "slide_type": ""
    }
   },
   "source": [
    "Now we select the link values that occur more than a certain number of times."
   ]
  },
  {
   "cell_type": "code",
   "execution_count": 17,
   "metadata": {
    "ExecuteTime": {
     "end_time": "2018-02-08T08:50:06.474696Z",
     "start_time": "2018-02-08T08:50:06.466359Z"
    }
   },
   "outputs": [],
   "source": [
    "freqThreshold = 100\n",
    "\n",
    "frequentValues = collections.defaultdict(collections.Counter)\n",
    "\n",
    "for (val, freq) in identFreq.items():\n",
    "    if freq >= freqThreshold:\n",
    "        frequentValues[val] = freq"
   ]
  },
  {
   "cell_type": "code",
   "execution_count": 22,
   "metadata": {
    "ExecuteTime": {
     "end_time": "2018-02-07T16:14:27.819276Z",
     "start_time": "2018-02-07T16:14:27.813751Z"
    }
   },
   "outputs": [
    {
     "data": {
      "text/plain": [
       "504"
      ]
     },
     "execution_count": 22,
     "metadata": {},
     "output_type": "execute_result"
    }
   ],
   "source": [
    "len(frequentValues)"
   ]
  },
  {
   "cell_type": "code",
   "execution_count": 19,
   "metadata": {
    "ExecuteTime": {
     "end_time": "2018-02-08T08:52:04.008971Z",
     "start_time": "2018-02-08T08:52:03.998421Z"
    }
   },
   "outputs": [
    {
     "name": "stdout",
     "output_type": "stream",
     "text": [
      "     1000 x info:eu-repo/semantics/descriptiveMetadata\n",
      "     1000 x info:eu-repo/semantics/humanStartPage\n",
      "      998 x 1\n",
      "      998 x http://dare.uva.nl/cgi/arno/oai/aup\n",
      "      998 x 36\n",
      "      998 x http://www.loc.gov/mods/v3 http://www.loc.gov/standards/mods/v3/mods-3-6.xsd\n",
      "      985 x info:eu-repo/semantics/book\n",
      "      687 x info:eu-repo/semantics/objectFile\n",
      "      686 x http://purl.org/eprint/accessRights/OpenAccess\n",
      "      162 x 2006\n",
      "      138 x 2005\n",
      "      105 x 2007\n",
      "      100 x 4775\n",
      "      100 x 4781\n",
      "      100 x 4782\n"
     ]
    }
   ],
   "source": [
    "for (val, freq) in sorted(frequentValues.items(), key=lambda x: (-x[1], x[0])):\n",
    "    print(f'{freq:>9} x {values[val]}')"
   ]
  },
  {
   "cell_type": "code",
   "execution_count": null,
   "metadata": {},
   "outputs": [],
   "source": []
  }
 ],
 "metadata": {
  "kernelspec": {
   "display_name": "Python 3",
   "language": "python",
   "name": "python3"
  },
  "language_info": {
   "codemirror_mode": {
    "name": "ipython",
    "version": 3
   },
   "file_extension": ".py",
   "mimetype": "text/x-python",
   "name": "python",
   "nbconvert_exporter": "python",
   "pygments_lexer": "ipython3",
   "version": "3.6.4"
  },
  "toc": {
   "nav_menu": {},
   "number_sections": true,
   "sideBar": true,
   "skip_h1_title": true,
   "toc_cell": true,
   "toc_position": {},
   "toc_section_display": "block",
   "toc_window_display": true
  }
 },
 "nbformat": 4,
 "nbformat_minor": 2
}
